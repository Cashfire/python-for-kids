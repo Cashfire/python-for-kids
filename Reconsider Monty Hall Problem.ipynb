{
 "cells": [
  {
   "cell_type": "code",
   "execution_count": 5,
   "metadata": {
    "collapsed": false
   },
   "outputs": [],
   "source": [
    "import requests\n",
    "from bs4 import BeautifulSoup\n",
    "from IPython.display import HTML"
   ]
  },
  {
   "cell_type": "code",
   "execution_count": null,
   "metadata": {
    "collapsed": true
   },
   "outputs": [],
   "source": [
    "req = requests.get(\"https://en.wikipedia.org/wiki/Monty_Hall_problem\")\n",
    "page = req.text\n"
   ]
  },
  {
   "cell_type": "code",
   "execution_count": 7,
   "metadata": {
    "collapsed": true
   },
   "outputs": [],
   "source": [
    "soup = BeautifulSoup(page, 'html.parser')\n",
    "table_html = str(soup.find(\"table\", \"wikitable\"))"
   ]
  },
  {
   "cell_type": "code",
   "execution_count": 8,
   "metadata": {
    "collapsed": false
   },
   "outputs": [
    {
     "data": {
      "text/html": [
       "<table class=\"wikitable\" style=\"margin:left; text-align: center;\">\n",
       "<tr>\n",
       "<th>Behind door 1</th>\n",
       "<th>Behind door 2</th>\n",
       "<th>Behind door 3</th>\n",
       "<th>Result if staying at door #1</th>\n",
       "<th>Result if switching to the door offered</th>\n",
       "</tr>\n",
       "<tr>\n",
       "<td><b>Car</b></td>\n",
       "<td>Goat</td>\n",
       "<td>Goat</td>\n",
       "<td><b>Wins car</b></td>\n",
       "<td>Wins goat</td>\n",
       "</tr>\n",
       "<tr>\n",
       "<td>Goat</td>\n",
       "<td><b>Car</b></td>\n",
       "<td>Goat</td>\n",
       "<td>Wins goat</td>\n",
       "<td><b>Wins car</b></td>\n",
       "</tr>\n",
       "<tr>\n",
       "<td>Goat</td>\n",
       "<td>Goat</td>\n",
       "<td><b>Car</b></td>\n",
       "<td>Wins goat</td>\n",
       "<td><b>Wins car</b></td>\n",
       "</tr>\n",
       "</table>"
      ],
      "text/plain": [
       "<IPython.core.display.HTML object>"
      ]
     },
     "execution_count": 8,
     "metadata": {},
     "output_type": "execute_result"
    }
   ],
   "source": [
    "HTML(table_html)"
   ]
  },
  {
   "cell_type": "code",
   "execution_count": null,
   "metadata": {
    "collapsed": true
   },
   "outputs": [],
   "source": []
  }
 ],
 "metadata": {
  "anaconda-cloud": {},
  "celltoolbar": "Raw Cell Format",
  "kernelspec": {
   "display_name": "Python [conda root]",
   "language": "python",
   "name": "conda-root-py"
  },
  "language_info": {
   "codemirror_mode": {
    "name": "ipython",
    "version": 2
   },
   "file_extension": ".py",
   "mimetype": "text/x-python",
   "name": "python",
   "nbconvert_exporter": "python",
   "pygments_lexer": "ipython2",
   "version": "2.7.12"
  }
 },
 "nbformat": 4,
 "nbformat_minor": 1
}
