import requests
from bs4 import BeautifulSoup
from IPython.display import HTML

req = requests.get("https://en.wikipedia.org/wiki/Monty_Hall_problem")
page = req.text
soup = BeautifulSoup(page, 'html.parser')
table_html = str(soup.find("table", "wikitable"))
HTML(table_html)
